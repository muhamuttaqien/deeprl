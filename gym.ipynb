{
 "cells": [
  {
   "cell_type": "code",
   "execution_count": 1,
   "id": "d238c4e9",
   "metadata": {},
   "outputs": [],
   "source": [
    "import gymnasium as gym\n",
    "import matplotlib.pyplot as plt"
   ]
  },
  {
   "cell_type": "code",
   "execution_count": 2,
   "id": "f8f30100",
   "metadata": {},
   "outputs": [],
   "source": [
    "plt.style.use('ggplot')"
   ]
  },
  {
   "cell_type": "markdown",
   "id": "bab4fdb9",
   "metadata": {},
   "source": [
    "## Set Configs"
   ]
  },
  {
   "cell_type": "code",
   "execution_count": 3,
   "id": "100b7e46",
   "metadata": {
    "scrolled": true
   },
   "outputs": [
    {
     "data": {
      "text/plain": [
       "<Figure size 1000x600 with 0 Axes>"
      ]
     },
     "metadata": {},
     "output_type": "display_data"
    }
   ],
   "source": [
    "# Set the figure size\n",
    "plt.figure(figsize=(10, 6));"
   ]
  },
  {
   "cell_type": "markdown",
   "id": "9466e9b3",
   "metadata": {},
   "source": [
    "## Init Env"
   ]
  },
  {
   "cell_type": "code",
   "execution_count": 4,
   "id": "9270a72e",
   "metadata": {},
   "outputs": [],
   "source": [
    "# TOY TEXT\n",
    "env = gym.make(\"Blackjack-v1\", render_mode=\"human\")\n",
    "env = gym.make(\"Taxi-v3\", render_mode=\"human\")\n",
    "env = gym.make(\"CliffWalking-v0\", render_mode=\"human\")\n",
    "env = gym.make(\"FrozenLake-v1\", render_mode=\"human\")"
   ]
  },
  {
   "cell_type": "code",
   "execution_count": 5,
   "id": "26288c3e",
   "metadata": {},
   "outputs": [],
   "source": [
    "# BOX2D\n",
    "env = gym.make(\"BipedalWalker-v3\", render_mode=\"human\", hardcore=True)\n",
    "env = gym.make(\"CarRacing-v2\", render_mode=\"human\", domain_randomize=True)\n",
    "env = gym.make(\"LunarLander-v2\", render_mode=\"human\")"
   ]
  },
  {
   "cell_type": "code",
   "execution_count": 6,
   "id": "3d21c1f1",
   "metadata": {},
   "outputs": [],
   "source": [
    "# CLASSIC CONTROL\n",
    "env = gym.make(\"Acrobot-v1\", render_mode=\"human\")\n",
    "env = gym.make(\"CartPole-v1\", render_mode=\"human\")\n",
    "env = gym.make(\"MountainCarContinuous-v0\", render_mode=\"human\")\n",
    "env = gym.make(\"MountainCar-v0\", render_mode=\"human\")\n",
    "env = gym.make(\"Pendulum-v1\", render_mode=\"human\")"
   ]
  },
  {
   "cell_type": "code",
   "execution_count": 7,
   "id": "2f64de61",
   "metadata": {},
   "outputs": [
    {
     "name": "stderr",
     "output_type": "stream",
     "text": [
      "A.L.E: Arcade Learning Environment (version 0.8.1+53f58b7)\n",
      "[Powered by Stella]\n"
     ]
    }
   ],
   "source": [
    "# ATARI\n",
    "# pip install ale-py\n",
    "# pip install gym[atari, accept-rom-license]\n",
    "from ale_py import ALEInterface\n",
    "ale = ALEInterface()\n",
    "\n",
    "import ale_py.roms as roms\n",
    "# roms.__all__ # https://www.gymlibrary.dev/environments/atari/complete_list/"
   ]
  },
  {
   "cell_type": "code",
   "execution_count": 8,
   "id": "afc77ef9",
   "metadata": {},
   "outputs": [
    {
     "name": "stderr",
     "output_type": "stream",
     "text": [
      "Game console created:\n",
      "  ROM file:  /home/muhamuttaqien/.local/lib/python3.10/site-packages/AutoROM/roms/breakout.bin\n",
      "  Cart Name: Breakout - Breakaway IV (1978) (Atari)\n",
      "  Cart MD5:  f34f08e5eb96e500e851a80be3277a56\n",
      "  Display Format:  AUTO-DETECT ==> NTSC\n",
      "  ROM Size:        2048\n",
      "  Bankswitch Type: AUTO-DETECT ==> 2K\n",
      "\n",
      "Running ROM file...\n",
      "Random seed is 1718442422\n"
     ]
    }
   ],
   "source": [
    "from ale_py.roms import Breakout\n",
    "\n",
    "ale.loadROM(Breakout)"
   ]
  },
  {
   "cell_type": "code",
   "execution_count": 9,
   "id": "3d407598",
   "metadata": {},
   "outputs": [
    {
     "name": "stderr",
     "output_type": "stream",
     "text": [
      "A.L.E: Arcade Learning Environment (version 0.8.1+53f58b7)\n",
      "[Powered by Stella]\n"
     ]
    }
   ],
   "source": [
    "env = gym.make(\"ALE/Breakout-v5\", render_mode='human')\n",
    "env.metadata['render_fps'] = 30"
   ]
  },
  {
   "cell_type": "code",
   "execution_count": 10,
   "id": "53a0d7ab",
   "metadata": {},
   "outputs": [
    {
     "data": {
      "image/png": "[encoded data removed]",
      "text/plain": [
       "<Figure size 640x480 with 1 Axes>"
      ]
     },
     "metadata": {},
     "output_type": "display_data"
    }
   ],
   "source": [
    "observation, _ = env.reset()\n",
    "\n",
    "plt.imshow(observation)\n",
    "plt.title('Game State')\n",
    "plt.axis('off')\n",
    "plt.show()"
   ]
  },
  {
   "cell_type": "markdown",
   "id": "93ec7687",
   "metadata": {},
   "source": [
    "## Run Agent"
   ]
  },
  {
   "cell_type": "code",
   "execution_count": null,
   "id": "f509980f-0a4f-40be-8d74-5a8aaac05761",
   "metadata": {},
   "outputs": [],
   "source": [
    "observation, info = env.reset()\n",
    "\n",
    "num_episodes = 2000\n",
    "max_steps_per_episode = 20\n",
    "rewards_per_episode = [] # List to store collected rewards\n",
    "\n",
    "for episode in range(num_episodes):\n",
    "    observation = env.reset()\n",
    "    episode_reward = 0  # Total reward for the current episode\n",
    "\n",
    "    for step in range(max_steps_per_episode):\n",
    "        env.render()\n",
    "\n",
    "        action = env.action_space.sample()\n",
    "        observation, reward, terminated, truncated, info = env.step(action)\n",
    "\n",
    "        episode_reward += reward  # Accumulate the reward for the episode\n",
    "\n",
    "        if terminated or truncated:\n",
    "            break  # Exit the inner loop if the episode is terminated\n",
    "\n",
    "    rewards_per_episode.append(episode_reward)  # Store the total reward for the episode\n",
    "\n",
    "env.close()"
   ]
  },
  {
   "cell_type": "markdown",
   "id": "7e8e5ea4",
   "metadata": {},
   "source": [
    "---"
   ]
  }
 ],
 "metadata": {
  "kernelspec": {
   "display_name": "Python 3 (ipykernel)",
   "language": "python",
   "name": "python3"
  },
  "language_info": {
   "codemirror_mode": {
    "name": "ipython",
    "version": 3
   },
   "file_extension": ".py",
   "mimetype": "text/x-python",
   "name": "python",
   "nbconvert_exporter": "python",
   "pygments_lexer": "ipython3",
   "version": "3.10.12"
  }
 },
 "nbformat": 4,
 "nbformat_minor": 5
}
