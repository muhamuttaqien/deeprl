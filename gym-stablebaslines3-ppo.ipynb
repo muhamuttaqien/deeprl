{
 "cells": [
  {
   "cell_type": "code",
   "execution_count": 1,
   "id": "2e6a2bf1",
   "metadata": {},
   "outputs": [],
   "source": [
    "import os\n",
    "import random\n",
    "import shutil\n",
    "import numpy as np\n",
    "import matplotlib.pyplot as plt\n",
    "\n",
    "import gymnasium as gym"
   ]
  },
  {
   "cell_type": "code",
   "execution_count": 2,
   "id": "2063e734",
   "metadata": {},
   "outputs": [],
   "source": [
    "from stable_baselines3 import PPO\n",
    "from stable_baselines3.common.env_util import make_vec_env\n",
    "from stable_baselines3.common.evaluation import evaluate_policy"
   ]
  },
  {
   "cell_type": "code",
   "execution_count": 3,
   "id": "b7cac544",
   "metadata": {},
   "outputs": [],
   "source": [
    "log_dir = \"./ppo_cartpole_tensorboard/\"\n",
    "# Check if the directory exists and remove it\n",
    "if os.path.exists(log_dir):\n",
    "    shutil.rmtree(log_dir)\n",
    "# Recreate the empty directory\n",
    "\n",
    "os.makedirs(log_dir, exist_ok=True)"
   ]
  },
  {
   "cell_type": "code",
   "execution_count": 4,
   "id": "ca8e325a",
   "metadata": {},
   "outputs": [],
   "source": [
    "# Create the environment\n",
    "env = make_vec_env('CartPole-v1', n_envs=1)\n",
    "\n",
    "# Initialize the agent\n",
    "# tensorboard --logdir ./ppo_cartpole_tensorboard/\n",
    "model = PPO('MlpPolicy', env, verbose=1, tensorboard_log=log_dir)\n",
    "\n",
    "# Train the agent\n",
    "model.learn(total_timesteps=1000000, tb_log_name='first_run')\n",
    "\n",
    "# Evaluate the agent\n",
    "mean_reward, std_reward = evaluate_policy(model, model.get_env(), n_eval_episodes=10)\n",
    "print(f'Mean reward: {mean_reward} +/- {std_reward}')"
   ]
  },
  {
   "cell_type": "code",
   "execution_count": 5,
   "id": "87871ddb",
   "metadata": {},
   "outputs": [],
   "source": [
    "# Test the trained agent\n",
    "obs = env.reset()\n",
    "for _ in range(10000):\n",
    "    action, _states = model.predict(obs, deterministic=True)\n",
    "    obs, rewards, dones, info = env.step(action)\n",
    "    env.render('human')"
   ]
  },
  {
   "cell_type": "markdown",
   "id": "c2e26d8b",
   "metadata": {},
   "source": [
    "---"
   ]
  }
 ],
 "metadata": {
  "kernelspec": {
   "display_name": "Python 3 (ipykernel)",
   "language": "python",
   "name": "python3"
  },
  "language_info": {
   "codemirror_mode": {
    "name": "ipython",
    "version": 3
   },
   "file_extension": ".py",
   "mimetype": "text/x-python",
   "name": "python",
   "nbconvert_exporter": "python",
   "pygments_lexer": "ipython3",
   "version": "3.8.10"
  }
 },
 "nbformat": 4,
 "nbformat_minor": 5
}
