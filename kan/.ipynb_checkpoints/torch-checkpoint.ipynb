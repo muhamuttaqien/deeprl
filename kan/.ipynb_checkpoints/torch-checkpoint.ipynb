{
 "cells": [
  {
   "cell_type": "code",
   "execution_count": 1,
   "id": "e377520a",
   "metadata": {},
   "outputs": [],
   "source": [
    "import torch\n",
    "import torch.nn as nn\n",
    "import torch.optim as optim"
   ]
  },
  {
   "cell_type": "code",
   "execution_count": 2,
   "id": "ad7f6f0c",
   "metadata": {},
   "outputs": [],
   "source": [
    "# non-square kernels and unequal stride and with padding and dilation\n",
    "m = nn.Conv2d(3, 16, (3, 5), stride=(2, 1), padding=(4, 2), dilation=(3, 1))"
   ]
  },
  {
   "cell_type": "code",
   "execution_count": 3,
   "id": "6ab86c83",
   "metadata": {},
   "outputs": [],
   "source": [
    "input = torch.randn(32, 3, 100, 100) # input size (Batch, Channel, H, W)\n",
    "output = m(input)"
   ]
  },
  {
   "cell_type": "markdown",
   "id": "95193488",
   "metadata": {},
   "source": [
    "---"
   ]
  }
 ],
 "metadata": {
  "kernelspec": {
   "display_name": "Python 3 (ipykernel)",
   "language": "python",
   "name": "python3"
  },
  "language_info": {
   "codemirror_mode": {
    "name": "ipython",
    "version": 3
   },
   "file_extension": ".py",
   "mimetype": "text/x-python",
   "name": "python",
   "nbconvert_exporter": "python",
   "pygments_lexer": "ipython3",
   "version": "3.8.10"
  }
 },
 "nbformat": 4,
 "nbformat_minor": 5
}
